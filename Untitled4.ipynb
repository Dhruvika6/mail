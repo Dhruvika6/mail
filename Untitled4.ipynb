{
 "cells": [
  {
   "cell_type": "code",
   "execution_count": null,
   "id": "bc09bfa1-2c03-48dc-9107-6b377bf4c356",
   "metadata": {},
   "outputs": [],
   "source": [
    "def outer_function():\n",
    "    x=20\n",
    "    def inner_function():\n",
    "        x=30"
   ]
  },
  {
   "cell_type": "code",
   "execution_count": 6,
   "id": "40adcee7-4bcf-4edc-ba15-ecd931413f97",
   "metadata": {},
   "outputs": [
    {
     "ename": "NameError",
     "evalue": "name 'sqaure' is not defined",
     "output_type": "error",
     "traceback": [
      "\u001b[1;31m---------------------------------------------------------------------------\u001b[0m",
      "\u001b[1;31mNameError\u001b[0m                                 Traceback (most recent call last)",
      "Cell \u001b[1;32mIn[6], line 3\u001b[0m\n\u001b[0;32m      1\u001b[0m \u001b[38;5;28;01mdef\u001b[39;00m \u001b[38;5;21msquare\u001b[39m(x):\n\u001b[0;32m      2\u001b[0m     \u001b[38;5;28;01mreturn\u001b[39;00m x\u001b[38;5;241m*\u001b[39mx\n\u001b[1;32m----> 3\u001b[0m f \u001b[38;5;241m=\u001b[39m \u001b[43msqaure\u001b[49m\n\u001b[0;32m      4\u001b[0m \u001b[38;5;28mprint\u001b[39m(f(\u001b[38;5;241m5\u001b[39m))\n\u001b[0;32m      6\u001b[0m \u001b[38;5;28;01mdef\u001b[39;00m \u001b[38;5;21mapply_function\u001b[39m(func,value):\n",
      "\u001b[1;31mNameError\u001b[0m: name 'sqaure' is not defined"
     ]
    }
   ],
   "source": [
    "def square(x):\n",
    "    return x*x\n",
    "f = sqaure\n",
    "print(f(5))\n",
    "\n",
    "def apply_function(func,value):\n",
    "    return func(value)\n",
    "result = apply_function(square,4)\n",
    "print(result)"
   ]
  },
  {
   "cell_type": "code",
   "execution_count": 7,
   "id": "b61d2cd6-c935-4de5-8c41-af94ef04fda7",
   "metadata": {},
   "outputs": [
    {
     "name": "stdout",
     "output_type": "stream",
     "text": [
      "[0, 4, 16, 36, 64]\n"
     ]
    }
   ],
   "source": [
    "squares=[i ** 2 for i in range(10) if i%2==0]\n",
    "print(squares)"
   ]
  },
  {
   "cell_type": "markdown",
   "id": "8e1d4d52-a120-4614-a3e2-09752917a154",
   "metadata": {},
   "source": [
    "numbers=[1,2,3,4,5]\n",
    "squared = map(lamba x: x*x,numbers)\n",
    "print(list(squared))\n"
   ]
  },
  {
   "cell_type": "raw",
   "id": "1fe6c292-1a74-4e85-bf52-a517332ba2cd",
   "metadata": {},
   "source": []
  },
  {
   "cell_type": "code",
   "execution_count": null,
   "id": "fae40720-2e5a-40c4-965e-76f0604ed500",
   "metadata": {},
   "outputs": [],
   "source": []
  },
  {
   "cell_type": "markdown",
   "id": "469a0467-3b22-4a50-b01e-56549b8bc164",
   "metadata": {},
   "source": [
    "numbers=[1,2,3,4,5]\n",
    "squared = map (lamba x: x*x,numbers)\n",
    "print(list(squared))\n"
   ]
  },
  {
   "cell_type": "code",
   "execution_count": 9,
   "id": "0b82ecfa-a272-4d1f-8fc6-16d98317c368",
   "metadata": {},
   "outputs": [
    {
     "ename": "NameError",
     "evalue": "name 'numbers' is not defined",
     "output_type": "error",
     "traceback": [
      "\u001b[1;31m---------------------------------------------------------------------------\u001b[0m",
      "\u001b[1;31mNameError\u001b[0m                                 Traceback (most recent call last)",
      "Cell \u001b[1;32mIn[9], line 1\u001b[0m\n\u001b[1;32m----> 1\u001b[0m even_numbers\u001b[38;5;241m=\u001b[39m \u001b[38;5;28mfilter\u001b[39m(\u001b[38;5;28;01mlambda\u001b[39;00m x: x\u001b[38;5;241m%\u001b[39m \u001b[38;5;241m2\u001b[39m\u001b[38;5;241m==\u001b[39m\u001b[38;5;241m0\u001b[39m,\u001b[43mnumbers\u001b[49m)\n\u001b[0;32m      2\u001b[0m \u001b[38;5;28mprint\u001b[39m(\u001b[38;5;28mlist\u001b[39m(even_numbers))\n",
      "\u001b[1;31mNameError\u001b[0m: name 'numbers' is not defined"
     ]
    }
   ],
   "source": [
    "even_numbers= filter(lambda x: x% 2==0,numbers)\n",
    "print(list(even_numbers))"
   ]
  },
  {
   "cell_type": "code",
   "execution_count": null,
   "id": "551fcd48-0d8e-4f01-abf8-ce5c53b6e41c",
   "metadata": {},
   "outputs": [],
   "source": []
  },
  {
   "cell_type": "code",
   "execution_count": null,
   "id": "631069cf-c65e-4bbc-bff5-18af1fe5b9ca",
   "metadata": {},
   "outputs": [],
   "source": [
    "numbers=[1,2,3,4,5]\n",
    "squared=map(lambda x: x*x,numbers)"
   ]
  }
 ],
 "metadata": {
  "kernelspec": {
   "display_name": "Python 3 (ipykernel)",
   "language": "python",
   "name": "python3"
  },
  "language_info": {
   "codemirror_mode": {
    "name": "ipython",
    "version": 3
   },
   "file_extension": ".py",
   "mimetype": "text/x-python",
   "name": "python",
   "nbconvert_exporter": "python",
   "pygments_lexer": "ipython3",
   "version": "3.12.5"
  }
 },
 "nbformat": 4,
 "nbformat_minor": 5
}
